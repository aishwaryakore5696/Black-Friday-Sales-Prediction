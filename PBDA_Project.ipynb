{
 "cells": [
  {
   "cell_type": "markdown",
   "metadata": {},
   "source": [
    "# PBDA Project\n",
    "## Analysis and Forecasting of Black Friday Sales\n",
    "\n",
    "Tejas Shetty - trs389@nyu.edu\n",
    "\n",
    "Sanjana Jangnure - sbj286@nyu.edu\n",
    "\n",
    "Aishwarya Kore - adk497@nyu.edu\n",
    "\n",
    "Richanshu Jha - rj1469@nyu.edu\n",
    "\n",
    "--- \n",
    "\n",
    "### Required Python modules\n",
    "1. PySpark\n",
    "2. findSpark\n",
    "\n",
    "### To Run:\n",
    "1. Please ensure the required Python modules are installed.\n",
    "2. This ```.ipynb``` file can be run as a jupyter notebook."
   ]
  },
  {
   "cell_type": "code",
   "execution_count": 1,
   "metadata": {
    "pycharm": {
     "is_executing": false,
     "name": "#%%\n"
    }
   },
   "outputs": [],
   "source": [
    "from pyspark.ml.regression import LinearRegression\n",
    "from pyspark.ml.tuning import ParamGridBuilder, TrainValidationSplit\n",
    "from pyspark.sql import SparkSession\n",
    "from pyspark.sql import functions as F\n",
    "from pyspark.sql.types import IntegerType\n",
    "\n",
    "spark = SparkSession\\\n",
    "        .builder\\\n",
    "        .appName(\"PBDA_Project\")\\\n",
    "        .getOrCreate()\n",
    "\n",
    "# Prepare training and test data.\n",
    "data = spark.read.format(\"csv\")\\\n",
    "    .option(\"header\",\"true\")\\\n",
    "    .option(\"inferSchema\", \"true\")\\\n",
    "    .load(\"E:\\#Notes and Study Stuff\\PBDA\\Final Project\\data\\\\train.csv\")\n",
    "\n",
    "df = data"
   ]
  },
  {
   "cell_type": "code",
   "execution_count": 2,
   "metadata": {},
   "outputs": [
    {
     "name": "stdout",
     "output_type": "stream",
     "text": [
      "+------+---------+\n",
      "|Gender|newgender|\n",
      "+------+---------+\n",
      "|     F|        1|\n",
      "|     F|        1|\n",
      "|     F|        1|\n",
      "|     F|        1|\n",
      "|     M|        0|\n",
      "|     M|        0|\n",
      "|     M|        0|\n",
      "|     M|        0|\n",
      "|     M|        0|\n",
      "|     M|        0|\n",
      "|     M|        0|\n",
      "|     M|        0|\n",
      "|     M|        0|\n",
      "|     M|        0|\n",
      "|     F|        1|\n",
      "|     F|        1|\n",
      "|     F|        1|\n",
      "|     F|        1|\n",
      "|     M|        0|\n",
      "|     M|        0|\n",
      "+------+---------+\n",
      "only showing top 20 rows\n",
      "\n",
      "+----------+------+\n",
      "|Product_ID|newpid|\n",
      "+----------+------+\n",
      "| P00069042| 69042|\n",
      "| P00248942|248942|\n",
      "| P00087842| 87842|\n",
      "| P00085442| 85442|\n",
      "| P00285442|285442|\n",
      "| P00193542|193542|\n",
      "| P00184942|184942|\n",
      "| P00346142|346142|\n",
      "|  P0097242| 97242|\n",
      "| P00274942|274942|\n",
      "| P00251242|251242|\n",
      "| P00014542| 14542|\n",
      "| P00031342| 31342|\n",
      "| P00145042|145042|\n",
      "| P00231342|231342|\n",
      "| P00190242|190242|\n",
      "|  P0096642| 96642|\n",
      "| P00058442| 58442|\n",
      "| P00036842| 36842|\n",
      "| P00249542|249542|\n",
      "+----------+------+\n",
      "only showing top 20 rows\n",
      "\n",
      "+-------------+---------------+\n",
      "|City_Category|newcityCategory|\n",
      "+-------------+---------------+\n",
      "|            A|              0|\n",
      "|            A|              0|\n",
      "|            A|              0|\n",
      "|            A|              0|\n",
      "|            C|              2|\n",
      "|            A|              0|\n",
      "|            B|              1|\n",
      "|            B|              1|\n",
      "|            B|              1|\n",
      "|            A|              0|\n",
      "|            A|              0|\n",
      "|            A|              0|\n",
      "|            A|              0|\n",
      "|            A|              0|\n",
      "|            A|              0|\n",
      "|            A|              0|\n",
      "|            A|              0|\n",
      "|            A|              0|\n",
      "|            B|              1|\n",
      "|            C|              2|\n",
      "+-------------+---------------+\n",
      "only showing top 20 rows\n",
      "\n",
      "root\n",
      " |-- User_ID: integer (nullable = true)\n",
      " |-- Product_ID: string (nullable = true)\n",
      " |-- Gender: string (nullable = true)\n",
      " |-- Age: string (nullable = true)\n",
      " |-- Occupation: integer (nullable = true)\n",
      " |-- City_Category: string (nullable = true)\n",
      " |-- Stay_In_Current_City_Years: string (nullable = true)\n",
      " |-- Marital_Status: integer (nullable = true)\n",
      " |-- Product_Category_1: integer (nullable = true)\n",
      " |-- Product_Category_2: integer (nullable = true)\n",
      " |-- Product_Category_3: integer (nullable = true)\n",
      " |-- Purchase: integer (nullable = true)\n",
      " |-- newgender: integer (nullable = true)\n",
      " |-- newpid: integer (nullable = true)\n",
      " |-- newcityCategory: integer (nullable = true)\n",
      "\n"
     ]
    }
   ],
   "source": [
    "GenderF = F.udf(lambda x : '1' if x=='F' else 0)\n",
    "\n",
    "df=df.withColumn(\"newgender\",GenderF(df.Gender).cast(IntegerType()))\n",
    "df.select(\"Gender\",\"newgender\").show()\n",
    "\n",
    "productidF=F.udf(lambda x:str(x).strip('P'))\n",
    "\n",
    "df=df.withColumn(\"newpid\",productidF(df.Product_ID).cast(IntegerType()))\n",
    "df.select(\"Product_ID\",\"newpid\").show()\n",
    "\n",
    "cityCategoryF=F.udf(lambda x : 0 if x=='A' else(1 if x=='B' else 2))\n",
    "\n",
    "df=df.withColumn(\"newcityCategory\",cityCategoryF(df.City_Category).cast(IntegerType()))\n",
    "df.select(\"City_Category\",\"newcityCategory\").show()\n",
    "\n",
    "df.printSchema()"
   ]
  },
  {
   "cell_type": "code",
   "execution_count": 3,
   "metadata": {},
   "outputs": [
    {
     "name": "stdout",
     "output_type": "stream",
     "text": [
      "+-----+---------+----------+--------------------+\n",
      "|  Age|newgender|Occupation|                   X|\n",
      "+-----+---------+----------+--------------------+\n",
      "| 0-17|        1|        10|a0-17 b1 c10 d690...|\n",
      "| 0-17|        1|        10|a0-17 b1 c10 d248...|\n",
      "| 0-17|        1|        10|a0-17 b1 c10 d878...|\n",
      "| 0-17|        1|        10|a0-17 b1 c10 d854...|\n",
      "|  55+|        0|        16|a55+ b0 c16 d2854...|\n",
      "|26-35|        0|        15|a26-35 b0 c15 d19...|\n",
      "|46-50|        0|         7|a46-50 b0 c7 d184...|\n",
      "|46-50|        0|         7|a46-50 b0 c7 d346...|\n",
      "|46-50|        0|         7|a46-50 b0 c7 d972...|\n",
      "|26-35|        0|        20|a26-35 b0 c20 d27...|\n",
      "+-----+---------+----------+--------------------+\n",
      "only showing top 10 rows\n",
      "\n"
     ]
    }
   ],
   "source": [
    "from pyspark.ml.feature import Word2Vec\n",
    "from pyspark.ml.feature import Tokenizer, RegexTokenizer\n",
    "from pyspark.ml.feature import RegexTokenizer, CountVectorizer\n",
    "from pyspark.sql import functions as F\n",
    "\n",
    "merged = F.udf(lambda a,b,c,d,e,f,g,h,i,j: 'a'+str(a)+' b'+str(b)+' c'+str(c)+ \\\n",
    "               ' d'+str(d)+' e'+str(e)+' f'+str(f)+' g'+str(g)+' h'+str(h)+' i'+str(i)+ \\\n",
    "               ' j'+str(j))\n",
    "\n",
    "\n",
    "df = df.withColumn('X',merged(df['Age'], df['newgender'], df['Occupation'], \\\n",
    "                              df['newpid'], df['newcityCategory'], \\\n",
    "                              df['Stay_In_Current_City_Years'], df['Marital_Status'], \\\n",
    "                              df['Product_Category_1'], df['Product_Category_2'], df['Product_Category_3']))\n",
    "\n",
    "df.select('Age', 'newgender', 'Occupation', 'X').show(10)"
   ]
  },
  {
   "cell_type": "code",
   "execution_count": 4,
   "metadata": {},
   "outputs": [
    {
     "name": "stdout",
     "output_type": "stream",
     "text": [
      "+-----+---------+----------+--------------------+--------------------+\n",
      "|  Age|newgender|Occupation|                   X|                  X2|\n",
      "+-----+---------+----------+--------------------+--------------------+\n",
      "| 0-17|        1|        10|a0-17 b1 c10 d690...|[a0-17, b1, c10, ...|\n",
      "| 0-17|        1|        10|a0-17 b1 c10 d248...|[a0-17, b1, c10, ...|\n",
      "| 0-17|        1|        10|a0-17 b1 c10 d878...|[a0-17, b1, c10, ...|\n",
      "| 0-17|        1|        10|a0-17 b1 c10 d854...|[a0-17, b1, c10, ...|\n",
      "|  55+|        0|        16|a55+ b0 c16 d2854...|[a55+, b0, c16, d...|\n",
      "|26-35|        0|        15|a26-35 b0 c15 d19...|[a26-35, b0, c15,...|\n",
      "|46-50|        0|         7|a46-50 b0 c7 d184...|[a46-50, b0, c7, ...|\n",
      "|46-50|        0|         7|a46-50 b0 c7 d346...|[a46-50, b0, c7, ...|\n",
      "|46-50|        0|         7|a46-50 b0 c7 d972...|[a46-50, b0, c7, ...|\n",
      "|26-35|        0|        20|a26-35 b0 c20 d27...|[a26-35, b0, c20,...|\n",
      "+-----+---------+----------+--------------------+--------------------+\n",
      "only showing top 10 rows\n",
      "\n"
     ]
    }
   ],
   "source": [
    "#Initializing Tokenizer\n",
    "regexTokenizer = RegexTokenizer(\\\n",
    "                    inputCol=\"X\", \\\n",
    "                    outputCol=\"X2\", \\\n",
    "                    pattern=\" \")\n",
    "\n",
    "df = regexTokenizer.transform(df)\n",
    "df.select('Age', 'newgender', 'Occupation','X', 'X2').show(10)"
   ]
  },
  {
   "cell_type": "code",
   "execution_count": 5,
   "metadata": {},
   "outputs": [
    {
     "name": "stdout",
     "output_type": "stream",
     "text": [
      "+--------------------+--------------------+\n",
      "|                  X2|            features|\n",
      "+--------------------+--------------------+\n",
      "|[a0-17, b1, c10, ...|(3725,[1,2,7,10,1...|\n",
      "|[a0-17, b1, c10, ...|(3725,[2,10,11,12...|\n",
      "|[a0-17, b1, c10, ...|(3725,[1,2,7,10,1...|\n",
      "|[a0-17, b1, c10, ...|(3725,[1,2,10,12,...|\n",
      "|[a55+, b0, c16, d...|(3725,[0,1,2,7,8,...|\n",
      "|[a26-35, b0, c15,...|(3725,[0,1,2,5,10...|\n",
      "|[a46-50, b0, c7, ...|(3725,[0,3,4,11,1...|\n",
      "|[a46-50, b0, c7, ...|(3725,[0,1,3,4,11...|\n",
      "|[a46-50, b0, c7, ...|(3725,[0,1,3,4,11...|\n",
      "|[a26-35, b0, c20,...|(3725,[0,1,4,5,6,...|\n",
      "+--------------------+--------------------+\n",
      "only showing top 10 rows\n",
      "\n"
     ]
    }
   ],
   "source": [
    "countVectorizer = CountVectorizer(inputCol=\"X2\",  outputCol=\"features\")\n",
    "cvModel = countVectorizer.fit(df)\n",
    "df = cvModel.transform(df)\n",
    "\n",
    "df.select('X2','features').show(10)"
   ]
  },
  {
   "cell_type": "code",
   "execution_count": 6,
   "metadata": {},
   "outputs": [
    {
     "name": "stdout",
     "output_type": "stream",
     "text": [
      "+-----+-------------+\n",
      "|label|labelCategory|\n",
      "+-----+-------------+\n",
      "| 8370|          8.0|\n",
      "|15200|         15.0|\n",
      "| 1422|          1.0|\n",
      "| 1057|          1.0|\n",
      "| 7969|          7.0|\n",
      "|15227|         15.0|\n",
      "|19215|         19.0|\n",
      "|15854|         15.0|\n",
      "|15686|         15.0|\n",
      "| 7871|          7.0|\n",
      "+-----+-------------+\n",
      "only showing top 10 rows\n",
      "\n"
     ]
    }
   ],
   "source": [
    "#REDUCING NO OF LABELS BY PUTTING PRICE INTO BUCKETS\n",
    "from pyspark.ml.feature import StringIndexer\n",
    "from pyspark.sql.types import IntegerType\n",
    "from pyspark.sql.types import FloatType\n",
    "\n",
    "df = df.withColumnRenamed('Purchase','label')\n",
    "df = df.withColumn('labelCategory',((df['label']/1000).cast(IntegerType())).cast(FloatType()))\n",
    "df.select('label','labelCategory').show(10)"
   ]
  },
  {
   "cell_type": "code",
   "execution_count": 7,
   "metadata": {
    "scrolled": false
   },
   "outputs": [
    {
     "name": "stdout",
     "output_type": "stream",
     "text": [
      "Training split\n",
      "+--------------------+-----+\n",
      "|            features|count|\n",
      "+--------------------+-----+\n",
      "|(3725,[0,1,2,3,5,...|    2|\n",
      "|(3725,[0,1,2,3,5,...|    1|\n",
      "|(3725,[0,1,2,3,5,...|    1|\n",
      "|(3725,[0,1,2,3,5,...|    1|\n",
      "|(3725,[0,1,2,3,5,...|    2|\n",
      "|(3725,[0,1,2,3,5,...|    1|\n",
      "|(3725,[0,1,2,3,5,...|    1|\n",
      "|(3725,[0,1,2,3,5,...|    1|\n",
      "|(3725,[0,1,2,3,5,...|    1|\n",
      "|(3725,[0,1,2,3,5,...|    1|\n",
      "+--------------------+-----+\n",
      "only showing top 10 rows\n",
      "\n",
      "Testing split\n",
      "+--------------------+-----+\n",
      "|            features|count|\n",
      "+--------------------+-----+\n",
      "|(3725,[0,1,2,3,5,...|    1|\n",
      "|(3725,[0,1,2,3,5,...|    1|\n",
      "|(3725,[0,1,2,3,5,...|    1|\n",
      "|(3725,[0,1,2,3,5,...|    1|\n",
      "|(3725,[0,1,2,3,5,...|    1|\n",
      "|(3725,[0,1,2,3,5,...|    1|\n",
      "|(3725,[0,1,2,3,5,...|    1|\n",
      "|(3725,[0,1,2,3,5,...|    2|\n",
      "|(3725,[0,1,2,3,5,...|    1|\n",
      "|(3725,[0,1,2,3,6,...|    1|\n",
      "+--------------------+-----+\n",
      "only showing top 10 rows\n",
      "\n",
      "Train Dataset Count : 384838\n",
      "Test Dataset Count  : 165230\n"
     ]
    }
   ],
   "source": [
    "# CREATING RANDOM SPLITS\n",
    "dfFinal = df.select('features','labelCategory') \\\n",
    "            .withColumnRenamed('labelCategory','label')\n",
    "\n",
    "(trainData, testData) = dfFinal.randomSplit([0.7, 0.3], seed = 888)\n",
    "print('Training split')\n",
    "trainData.groupBy('features').count().show(10)\n",
    "print('Testing split')\n",
    "testData.groupBy('features').count().show(10)\n",
    "\n",
    "print('Train Dataset Count : ' + str(trainData.count()))\n",
    "print('Test Dataset Count  : ' + str(testData.count()))"
   ]
  },
  {
   "cell_type": "code",
   "execution_count": 8,
   "metadata": {},
   "outputs": [
    {
     "name": "stdout",
     "output_type": "stream",
     "text": [
      "Model Training Complete\n"
     ]
    }
   ],
   "source": [
    "#Training\n",
    "from pyspark.ml.classification import LogisticRegression\n",
    "from pyspark.ml.evaluation import MulticlassClassificationEvaluator\n",
    "\n",
    "#trainData.printSchema()\n",
    "#testData.printSchema()\n",
    "\n",
    "lr = LogisticRegression()\n",
    "lrModel = lr.fit(trainData)\n",
    "predictions = lrModel.transform(testData)\n",
    "print('Model Training Complete')"
   ]
  },
  {
   "cell_type": "code",
   "execution_count": 9,
   "metadata": {},
   "outputs": [
    {
     "name": "stdout",
     "output_type": "stream",
     "text": [
      "+----------+-----+\n",
      "|prediction|count|\n",
      "+----------+-----+\n",
      "|       0.0| 3148|\n",
      "|       1.0| 2968|\n",
      "|       2.0| 3648|\n",
      "|       3.0| 2824|\n",
      "|       4.0| 6231|\n",
      "|       5.0|24835|\n",
      "|       6.0| 3442|\n",
      "|       7.0|23683|\n",
      "|       8.0|17188|\n",
      "|       9.0|14803|\n",
      "|      10.0| 3395|\n",
      "|      11.0| 9261|\n",
      "|      12.0| 2291|\n",
      "|      13.0| 2951|\n",
      "|      14.0|  169|\n",
      "|      15.0|26111|\n",
      "|      16.0| 6884|\n",
      "|      17.0|  211|\n",
      "|      18.0|  403|\n",
      "|      19.0| 5526|\n",
      "|      20.0| 3258|\n",
      "|      21.0|  705|\n",
      "|      23.0| 1295|\n",
      "+----------+-----+\n",
      "\n"
     ]
    }
   ],
   "source": [
    "predictions.groupBy('prediction').count().orderBy('prediction').show(31)"
   ]
  },
  {
   "cell_type": "code",
   "execution_count": 10,
   "metadata": {
    "pycharm": {
     "is_executing": false,
     "name": "#%%\n"
    }
   },
   "outputs": [
    {
     "name": "stdout",
     "output_type": "stream",
     "text": [
      "root\n",
      " |-- User_ID: integer (nullable = true)\n",
      " |-- Product_ID: string (nullable = true)\n",
      " |-- Gender: string (nullable = true)\n",
      " |-- Age: string (nullable = true)\n",
      " |-- Occupation: integer (nullable = true)\n",
      " |-- City_Category: string (nullable = true)\n",
      " |-- Stay_In_Current_City_Years: string (nullable = true)\n",
      " |-- Marital_Status: integer (nullable = true)\n",
      " |-- Product_Category_1: integer (nullable = true)\n",
      " |-- Product_Category_2: integer (nullable = true)\n",
      " |-- Product_Category_3: integer (nullable = true)\n",
      " |-- label: integer (nullable = true)\n",
      " |-- newgender: integer (nullable = true)\n",
      " |-- newpid: integer (nullable = true)\n",
      " |-- newcityCategory: integer (nullable = true)\n",
      " |-- X: string (nullable = true)\n",
      " |-- X2: array (nullable = true)\n",
      " |    |-- element: string (containsNull = true)\n",
      " |-- features: vector (nullable = true)\n",
      " |-- labelCategory: float (nullable = true)\n",
      " |-- features: vector (nullable = true)\n",
      " |-- label: float (nullable = true)\n",
      " |-- rawPrediction: vector (nullable = true)\n",
      " |-- probability: vector (nullable = true)\n",
      " |-- prediction: double (nullable = false)\n",
      " |-- predictedLabelCategory: double (nullable = false)\n",
      "\n"
     ]
    }
   ],
   "source": [
    "predictions = predictions.withColumn('predictedLabelCategory', predictions['prediction'])\n",
    "dfPredicted = df.join(predictions, df.features == predictions.features)\n",
    "dfPredicted.printSchema()"
   ]
  },
  {
   "cell_type": "code",
   "execution_count": 11,
   "metadata": {},
   "outputs": [
    {
     "name": "stdout",
     "output_type": "stream",
     "text": [
      "No. of Price Points = 24\n",
      "+----------+-------------------+------+\n",
      "|PriceRange|PredictedPriceRange| error|\n",
      "+----------+-------------------+------+\n",
      "|    1000.0|             1000.0|   0.0|\n",
      "|    7000.0|             7000.0|   0.0|\n",
      "|   19000.0|            19000.0|   0.0|\n",
      "|   19000.0|            19000.0|   0.0|\n",
      "|    3000.0|             7000.0|4000.0|\n",
      "|   15000.0|            15000.0|   0.0|\n",
      "|    5000.0|             5000.0|   0.0|\n",
      "|   19000.0|            15000.0|4000.0|\n",
      "|    5000.0|             7000.0|2000.0|\n",
      "|    5000.0|             7000.0|2000.0|\n",
      "|    7000.0|             5000.0|2000.0|\n",
      "|   12000.0|             9000.0|3000.0|\n",
      "|    8000.0|             5000.0|3000.0|\n",
      "|   15000.0|            11000.0|4000.0|\n",
      "|   10000.0|             8000.0|2000.0|\n",
      "|   19000.0|            19000.0|   0.0|\n",
      "|    8000.0|             9000.0|1000.0|\n",
      "|   12000.0|            11000.0|1000.0|\n",
      "|    5000.0|             7000.0|2000.0|\n",
      "|   19000.0|            15000.0|4000.0|\n",
      "+----------+-------------------+------+\n",
      "only showing top 20 rows\n",
      "\n",
      "Average Error = 2055.4012\n",
      "+-------+-----------------+\n",
      "|summary|            error|\n",
      "+-------+-----------------+\n",
      "|  count|           228948|\n",
      "|   mean|2055.401226479375|\n",
      "| stddev|2359.715037530347|\n",
      "|    min|              0.0|\n",
      "|    25%|              0.0|\n",
      "|    50%|           1000.0|\n",
      "|    75%|           4000.0|\n",
      "|    max|          19000.0|\n",
      "+-------+-----------------+\n",
      "\n"
     ]
    }
   ],
   "source": [
    "from  pyspark.sql.functions import abs\n",
    "\n",
    "dfPredicted = dfPredicted.withColumn('PriceRange', dfPredicted['labelCategory']*1000)\n",
    "dfPredicted = dfPredicted.withColumn('PredictedPriceRange', dfPredicted['predictedLabelCategory']*1000)\n",
    "\n",
    "pp = dfPredicted.groupBy('PriceRange').count().count()\n",
    "print('No. of Price Points = %i'%(pp))\n",
    "\n",
    "# +1 to deal with the NULL values \n",
    "dfPredicted = dfPredicted.withColumn('error', abs(((dfPredicted['PriceRange']) - dfPredicted['PredictedPriceRange'])))\n",
    "dfPredicted.select(['PriceRange','PredictedPriceRange','error']).show()\n",
    "\n",
    "statistics = dfPredicted.select('error').summary()\n",
    "\n",
    "err = statistics.collect()[1]['error']\n",
    "print('Average Error = %0.4f'%(float(err)))\n",
    "\n",
    "statistics.show()"
   ]
  },
  {
   "cell_type": "code",
   "execution_count": 12,
   "metadata": {},
   "outputs": [
    {
     "name": "stdout",
     "output_type": "stream",
     "text": [
      "+-------+----------+------+-----+----------+-------------+--------------------------+--------------+------------------+------------------+------------------+-----+---------+------+---------------+--------------------+--------------------+--------------------+-------------+--------------------+-----+--------------------+--------------------+----------+----------------------+\n",
      "|User_ID|Product_ID|Gender|  Age|Occupation|City_Category|Stay_In_Current_City_Years|Marital_Status|Product_Category_1|Product_Category_2|Product_Category_3|label|newgender|newpid|newcityCategory|                   X|                  X2|            features|labelCategory|            features|label|       rawPrediction|         probability|prediction|predictedLabelCategory|\n",
      "+-------+----------+------+-----+----------+-------------+--------------------------+--------------+------------------+------------------+------------------+-----+---------+------+---------------+--------------------+--------------------+--------------------+-------------+--------------------+-----+--------------------+--------------------+----------+----------------------+\n",
      "|1000001| P00085442|     F| 0-17|        10|            A|                         2|             0|                12|                14|              null| 1057|        1| 85442|              0|a0-17 b1 c10 d854...|[a0-17, b1, c10, ...|(3725,[1,2,10,12,...|          1.0|(3725,[1,2,10,12,...|  1.0|[10.2394918001907...|[0.03275479089426...|       1.0|                   1.0|\n",
      "|1000002| P00285442|     M|  55+|        16|            C|                        4+|             0|                 8|              null|              null| 7969|        0|285442|              2|a55+ b0 c16 d2854...|[a55+, b0, c16, d...|(3725,[0,1,2,7,8,...|          7.0|(3725,[0,1,2,7,8,...|  7.0|[-5.2304859233083...|[5.75195265654850...|       7.0|                   7.0|\n",
      "|1000004| P00184942|     M|46-50|         7|            B|                         2|             1|                 1|                 8|                17|19215|        0|184942|              1|a46-50 b0 c7 d184...|[a46-50, b0, c7, ...|(3725,[0,3,4,11,1...|         19.0|(3725,[0,3,4,11,1...| 19.0|[-4.4619000406577...|[1.24487229766744...|      19.0|                  19.0|\n",
      "|1000004| P00184942|     M|46-50|         7|            B|                         2|             1|                 1|                 8|                17|19215|        0|184942|              1|a46-50 b0 c7 d184...|[a46-50, b0, c7, ...|(3725,[0,3,4,11,1...|         19.0|(3725,[0,3,4,11,1...| 19.0|[-4.4619000406577...|[1.24487229766744...|      19.0|                  19.0|\n",
      "|1000005| P00014542|     M|26-35|        20|            A|                         1|             1|                 8|              null|              null| 3957|        0| 14542|              0|a26-35 b0 c20 d14...|[a26-35, b0, c20,...|(3725,[0,1,4,5,6,...|          3.0|(3725,[0,1,4,5,6,...|  3.0|[-2.8326417876770...|[6.47803423712783...|       7.0|                   7.0|\n",
      "+-------+----------+------+-----+----------+-------------+--------------------------+--------------+------------------+------------------+------------------+-----+---------+------+---------------+--------------------+--------------------+--------------------+-------------+--------------------+-----+--------------------+--------------------+----------+----------------------+\n",
      "only showing top 5 rows\n",
      "\n",
      "+-------+----------+------+-----+----------+-------------+--------------------------+--------------+------------------+------------------+------------------+-----+---------+------+---------------+--------------------+--------------------+--------------------+-------------+--------------------+-----+--------------------+--------------------+----------+----------------------+\n",
      "|User_ID|Product_ID|Gender|  Age|Occupation|City_Category|Stay_In_Current_City_Years|Marital_Status|Product_Category_1|Product_Category_2|Product_Category_3|label|newgender|newpid|newcityCategory|                   X|                  X2|            features|labelCategory|            features|label|       rawPrediction|         probability|prediction|predictedLabelCategory|\n",
      "+-------+----------+------+-----+----------+-------------+--------------------------+--------------+------------------+------------------+------------------+-----+---------+------+---------------+--------------------+--------------------+--------------------+-------------+--------------------+-----+--------------------+--------------------+----------+----------------------+\n",
      "|1000001| P00085442|     F| 0-17|        10|            A|                         2|             0|                12|                14|              null| 1057|        1| 85442|              0|a0-17 b1 c10 d854...|[a0-17, b1, c10, ...|(3725,[1,2,10,12,...|          1.0|(3725,[1,2,10,12,...|  1.0|[10.2394918001907...|[0.03275479089426...|       1.0|                   1.0|\n",
      "|1000002| P00285442|     M|  55+|        16|            C|                        4+|             0|                 8|              null|              null| 7969|        0|285442|              2|a55+ b0 c16 d2854...|[a55+, b0, c16, d...|(3725,[0,1,2,7,8,...|          7.0|(3725,[0,1,2,7,8,...|  7.0|[-5.2304859233083...|[5.75195265654850...|       7.0|                   7.0|\n",
      "|1000004| P00184942|     M|46-50|         7|            B|                         2|             1|                 1|                 8|                17|19215|        0|184942|              1|a46-50 b0 c7 d184...|[a46-50, b0, c7, ...|(3725,[0,3,4,11,1...|         19.0|(3725,[0,3,4,11,1...| 19.0|[-4.4619000406577...|[1.24487229766744...|      19.0|                  19.0|\n",
      "|1000004| P00184942|     M|46-50|         7|            B|                         2|             1|                 1|                 8|                17|19215|        0|184942|              1|a46-50 b0 c7 d184...|[a46-50, b0, c7, ...|(3725,[0,3,4,11,1...|         19.0|(3725,[0,3,4,11,1...| 19.0|[-4.4619000406577...|[1.24487229766744...|      19.0|                  19.0|\n",
      "|1000005| P00014542|     M|26-35|        20|            A|                         1|             1|                 8|              null|              null| 3957|        0| 14542|              0|a26-35 b0 c20 d14...|[a26-35, b0, c20,...|(3725,[0,1,4,5,6,...|          3.0|(3725,[0,1,4,5,6,...|  3.0|[-2.8326417876770...|[6.47803423712783...|       7.0|                   7.0|\n",
      "|1000005| P00145042|     M|26-35|        20|            A|                         1|             1|                 1|                 2|                 5|15665|        0|145042|              0|a26-35 b0 c20 d14...|[a26-35, b0, c20,...|(3725,[0,4,5,6,10...|         15.0|(3725,[0,4,5,6,10...| 15.0|[-2.9085090091551...|[7.94048658639339...|      15.0|                  15.0|\n",
      "|1000006| P00231342|     F|51-55|         9|            A|                         1|             0|                 5|                 8|                14| 5378|        1|231342|              0|a51-55 b1 c9 d231...|[a51-55, b1, c9, ...|(3725,[2,6,9,10,1...|          5.0|(3725,[2,6,9,10,1...|  5.0|[-6.4513668637797...|[1.16336891355743...|       5.0|                   5.0|\n",
      "|1000008| P00249542|     M|26-35|        12|            C|                        4+|             1|                 1|                 5|                15|19614|        0|249542|              2|a26-35 b0 c12 d24...|[a26-35, b0, c12,...|(3725,[0,4,5,8,11...|         19.0|(3725,[0,4,5,8,11...| 19.0|[-3.4174868388756...|[4.79410466055317...|      15.0|                  15.0|\n",
      "|1000009| P00078742|     M|26-35|        17|            C|                         0|             0|                 5|                 8|                14| 5391|        0| 78742|              2|a26-35 b0 c17 d78...|[a26-35, b0, c17,...|(3725,[0,2,5,8,9,...|          5.0|(3725,[0,2,5,8,9,...|  5.0|[-4.6172310300737...|[4.11224052250175...|       7.0|                   7.0|\n",
      "|1000010| P00297942|     F|36-45|         1|            B|                        4+|             1|                 8|              null|              null| 5875|        1|297942|              1|a36-45 b1 c1 d297...|[a36-45, b1, c1, ...|(3725,[1,3,4,7,12...|          5.0|(3725,[1,3,4,7,12...|  5.0|[-4.5232088631823...|[4.60226461495257...|       7.0|                   7.0|\n",
      "|1000010| P00105942|     F|36-45|         1|            B|                        4+|             1|                 5|              null|              null| 7089|        1|105942|              1|a36-45 b1 c1 d105...|[a36-45, b1, c1, ...|(3725,[1,3,4,7,9,...|          7.0|(3725,[1,3,4,7,9,...|  7.0|[-4.1332010286823...|[2.64485030280343...|       5.0|                   5.0|\n",
      "|1000010| P00182642|     F|36-45|         1|            B|                        4+|             1|                 2|                 4|                 9|12909|        1|182642|              1|a36-45 b1 c1 d182...|[a36-45, b1, c1, ...|(3725,[3,4,12,14,...|         12.0|(3725,[3,4,12,14,...| 12.0|[-4.2373779822336...|[1.44857351458753...|       9.0|                   9.0|\n",
      "|1000010| P00186942|     F|36-45|         1|            B|                        4+|             1|                 5|                12|              null| 8770|        1|186942|              1|a36-45 b1 c1 d186...|[a36-45, b1, c1, ...|(3725,[1,3,4,9,12...|          8.0|(3725,[1,3,4,9,12...|  8.0|[-4.2807458738286...|[2.14048876049652...|       5.0|                   5.0|\n",
      "|1000010| P00221342|     F|36-45|         1|            B|                        4+|             1|                 1|                 2|                 5|15705|        1|221342|              1|a36-45 b1 c1 d221...|[a36-45, b1, c1, ...|(3725,[3,4,11,12,...|         15.0|(3725,[3,4,11,12,...| 15.0|[-4.6523293827656...|[1.01950352586343...|      11.0|                  11.0|\n",
      "|1000010| P00312142|     F|36-45|         1|            B|                        4+|             1|                 8|              null|              null|10007|        1|312142|              1|a36-45 b1 c1 d312...|[a36-45, b1, c1, ...|(3725,[1,3,4,7,12...|         10.0|(3725,[1,3,4,7,12...| 10.0|[-4.4882871991661...|[4.67112555551037...|       8.0|                   8.0|\n",
      "|1000011| P00110842|     F|26-35|         1|            C|                         1|             0|                 1|                 2|                 5|19327|        1|110842|              2|a26-35 b1 c1 d110...|[a26-35, b1, c1, ...|(3725,[2,5,6,8,11...|         19.0|(3725,[2,5,6,8,11...| 19.0|[-4.6392549761811...|[7.81136817704395...|      19.0|                  19.0|\n",
      "|1000011| P00189642|     F|26-35|         1|            C|                         1|             0|                 8|                13|              null| 8027|        1|189642|              2|a26-35 b1 c1 d189...|[a26-35, b1, c1, ...|(3725,[1,2,5,6,8,...|          8.0|(3725,[1,2,5,6,8,...|  9.0|[-5.1095395117492...|[1.43270620123043...|       9.0|                   9.0|\n",
      "|1000013| P00182342|     M|46-50|         1|            C|                         3|             1|                 1|                 5|                 6|12107|        0|182342|              2|a46-50 b0 c1 d182...|[a46-50, b0, c1, ...|(3725,[0,4,8,11,1...|         12.0|(3725,[0,4,8,11,1...| 12.0|[-3.6717375936060...|[3.09196984823193...|      11.0|                  11.0|\n",
      "|1000014| P00276642|     M|36-45|         0|            C|                         0|             0|                 8|                11|              null| 5848|        0|276642|              2|a36-45 b0 c0 d276...|[a36-45, b0, c0, ...|(3725,[0,1,2,8,13...|          5.0|(3725,[0,1,2,8,13...|  5.0|[-5.2864179460970...|[1.69082868694777...|       7.0|                   7.0|\n",
      "|1000015| P00334242|     M|26-35|         7|            A|                         1|             0|                 1|                 8|              null|19653|        0|334242|              0|a26-35 b0 c7 d334...|[a26-35, b0, c7, ...|(3725,[0,1,2,5,6,...|         19.0|(3725,[0,1,2,5,6,...| 19.0|[-4.1221722781633...|[2.92873435635413...|      15.0|                  15.0|\n",
      "+-------+----------+------+-----+----------+-------------+--------------------------+--------------+------------------+------------------+------------------+-----+---------+------+---------------+--------------------+--------------------+--------------------+-------------+--------------------+-----+--------------------+--------------------+----------+----------------------+\n",
      "only showing top 20 rows\n",
      "\n"
     ]
    }
   ],
   "source": [
    "from pyspark.sql import SQLContext\n",
    "sqlContext = SQLContext(spark.sparkContext)\n",
    "\n",
    "jdf=df.join(predictions,df.features==predictions.features)\n",
    "jdf.show(5)\n",
    "jdf.registerTempTable(\"table1\")\n",
    "spark.sql(\"select * from table1\").show()\n",
    "\n",
    "predcount=spark.sql(\"SELECT Product_ID, \\\n",
    "                     prediction, \\\n",
    "                     count(prediction) as countpred from table1 group by Product_ID, \\\n",
    "                     prediction order by Product_ID,countpred desc\")\n",
    "predcount.registerTempTable(\"table2\")\n",
    "\n",
    "predcount2=spark.sql(\"SELECT Product_ID, \\\n",
    "                      max(countpred) as maxpred from table2 group by Product_ID order by Product_ID\")\n",
    "predcount2.registerTempTable(\"table3\")\n",
    "\n",
    "ppp=spark.sql(\"SELECT table2.Product_ID, \\\n",
    "               table2.prediction, \\\n",
    "               table3.maxpred from table2 inner join table3 on \\\n",
    "                  table2.Product_ID=table3.Product_ID \\\n",
    "                  and table2.countpred = table3.maxpred \")"
   ]
  },
  {
   "cell_type": "code",
   "execution_count": 16,
   "metadata": {},
   "outputs": [
    {
     "name": "stdout",
     "output_type": "stream",
     "text": [
      "+----------+----------+-------+-----------------------------------+\n",
      "|product_ID|prediction|maxpred|PredictedTotalSalesAmountInMillions|\n",
      "+----------+----------+-------+-----------------------------------+\n",
      "| P00025442|      19.0|   1238|                             23.522|\n",
      "| P00110742|      19.0|   1062|                             20.178|\n",
      "| P00010742|      19.0|   1048|                             19.912|\n",
      "| P00237542|      19.0|   1020|                              19.38|\n",
      "| P00110942|      19.0|   1007|                             19.133|\n",
      "| P00184942|      19.0|    999|                             18.981|\n",
      "| P00255842|      20.0|    905|                               18.1|\n",
      "| P00046742|      15.0|   1138|                              17.07|\n",
      "| P00059442|      20.0|    804|                              16.08|\n",
      "| P00110842|      19.0|    792|                             15.048|\n",
      "| P00057642|      15.0|    976|                              14.64|\n",
      "| P00028842|      20.0|    727|                              14.54|\n",
      "| P00112142|      15.0|    911|                             13.665|\n",
      "| P00080342|      19.0|    678|                             12.882|\n",
      "| P00145042|      15.0|    838|                              12.57|\n",
      "| P00148642|      20.0|    611|                              12.22|\n",
      "| P00052842|      23.0|    519|                             11.937|\n",
      "| P00265242|       8.0|   1451|                             11.608|\n",
      "| P00242742|      15.0|    747|                             11.205|\n",
      "| P00270942|      15.0|    736|                              11.04|\n",
      "| P00005042|      20.0|    529|                              10.58|\n",
      "| P00044442|      15.0|    701|                             10.515|\n",
      "| P00112442|      20.0|    472|                               9.44|\n",
      "| P00000142|      13.0|    694|                              9.022|\n",
      "| P00113242|      19.0|    470|                               8.93|\n",
      "| P00111142|      19.0|    435|                              8.265|\n",
      "| P00116842|      16.0|    504|                              8.064|\n",
      "| P00334242|      19.0|    422|                              8.018|\n",
      "| P00058042|       9.0|    888|                              7.992|\n",
      "| P00051442|       9.0|    886|                              7.974|\n",
      "| P00105142|      15.0|    530|                               7.95|\n",
      "| P00073842|      15.0|    525|                              7.875|\n",
      "| P00036842|      15.0|    516|                               7.74|\n",
      "| P00355142|      15.0|    499|                              7.485|\n",
      "| P00111742|      21.0|    349|                              7.329|\n",
      "|  P0097242|      15.0|    487|                              7.305|\n",
      "| P00147942|      15.0|    480|                                7.2|\n",
      "| P00057942|      15.0|    474|                               7.11|\n",
      "| P00085942|      16.0|    438|                              7.008|\n",
      "| P00182142|      15.0|    447|                              6.705|\n",
      "+----------+----------+-------+-----------------------------------+\n",
      "only showing top 40 rows\n",
      "\n"
     ]
    }
   ],
   "source": [
    "ppp = ppp.withColumn('PredictedTotalSalesAmountInMillions', (ppp['prediction']*1000*ppp['maxpred'])/1000000)\n",
    "ppp.select(['product_ID', \\\n",
    "            'prediction', \\\n",
    "            'maxpred', \\\n",
    "            'PredictedTotalSalesAmountInMillions']) \\\n",
    "                .orderBy('PredictedTotalSalesAmountInMillions', ascending = False) \\\n",
    "                .show(40)"
   ]
  }
 ],
 "metadata": {
  "kernelspec": {
   "display_name": "Python 3",
   "language": "python",
   "name": "python3"
  },
  "language_info": {
   "codemirror_mode": {
    "name": "ipython",
    "version": 3
   },
   "file_extension": ".py",
   "mimetype": "text/x-python",
   "name": "python",
   "nbconvert_exporter": "python",
   "pygments_lexer": "ipython3",
   "version": "3.7.4"
  },
  "pycharm": {
   "stem_cell": {
    "cell_type": "raw",
    "metadata": {
     "collapsed": false
    },
    "source": []
   }
  }
 },
 "nbformat": 4,
 "nbformat_minor": 1
}
